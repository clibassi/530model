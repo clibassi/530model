{
 "cells": [
  {
   "cell_type": "markdown",
   "metadata": {},
   "source": [
    "##Information Networks and College Choice "
   ]
  },
  {
   "cell_type": "markdown",
   "metadata": {},
   "source": [
    "Question: How do student information networks affect their application choices? And how do changing application choices change college offers?  "
   ]
  },
  {
   "cell_type": "markdown",
   "metadata": {},
   "source": [
    "#Outline\n",
    "  - Create Students with ASVAB score (figure out distribution of scores) and \"Income typical\" or \"Achievement Typical\"    designations\n",
    "  - Assign students to high schools (should be correlated with ASVAB) \n",
    "  - Setup social network within high schools \n",
    "  - Setup bipartite network between high schools and colleges - with varying edge length\n",
    "  - Setup decision rule for choosing schools to apply to \n",
    "  - Setup decision rule for schools to choose students\n",
    "  - Setup decision rule for choosing schools to attend"
   ]
  },
  {
   "cell_type": "markdown",
   "metadata": {},
   "source": [
    "#I. Space\n",
    "\n",
    "A. Social Network (Small world Graph) within high schools\n",
    "\n",
    "B. Bipartite Network between high schools and colleges "
   ]
  },
  {
   "cell_type": "markdown",
   "metadata": {},
   "source": [
    "#II. Actors\n",
    "\n",
    "##A. High School Students\n",
    "\n",
    "In this model, students transmit information about cost and chance of admission to schools\n",
    "\n",
    "###Student Properties\n",
    "* student_ability: The private (not publicly known) ability of a student, drawn from a truncated normal distribution \n",
    "* student_score: The public proxy for ability of a student, which colleges use to select students \n",
    "* ability_rank: The rank among entire cohort based on ability\n",
    "* score_rank: The rank among entire cohort based on score\n",
    "* app_strategy: Either \"income typical\" or \"achievement typical\" \n",
    "      - income typical: decide based on sticker price 80%, quality 20%\n",
    "      - achievement typical: decide based on net price 50%, quality 50% \n",
    "* student_apply: list of schools student applies to \n",
    "* student_attend: school student ultimately attends\n",
    "* student_age: steps since initialization.\n",
    "    * Freshman: 0-3 steps\n",
    "    * Sophomores: 4-7 steps\n",
    "    * Juniors: 8-11 steps\n",
    "    * Seniors: 12-15 steps\n",
    "    * College Students: 16 or greater steps \n",
    "\n",
    "##B. Colleges \n",
    "\n",
    "In this model, colleges are the entity into which students wish to sort optimally. \n",
    "\n",
    "###College Properties\n",
    "\n",
    "- college_rank: The \"Yellow Pages\" rank of the college. That is, colleges ranked as institutions\n",
    "- seat_rank: The \"White Pages\" rank of the college. That is, the first seat at the first-ranked school is one, but the first seat at the 5th-ranked school might be number 2000. \n",
    "- admit_standard: There should be a rule where schools set a minimum admission standard of the SAT score for the lowest ranked seat in their school\n",
    "- sticker_price: the posted tuition price\n",
    "- net_price: the average actual cost for a student \n",
    "\n",
    "#III. Initial Conditions\n",
    "\n",
    "##A. Students\n",
    "\n",
    "* Students are distributed into high school networks at initialization\n",
    "* Student are given an \"ability\" that is randomly initialized with a draw from a truncated normal distribution\n",
    "* Students are given a \"score\" which is the imperfect public display of skill students have, calculated using \"ability\" score and random noise\n",
    "* Students have a rank within the entire cohort on both ability and score\n",
    "* Students will have either achievement-typical status or income-typical status, drawn from a binomial distribution with its p determined by characteristics of the student population in a high school\n",
    "* Students have a number of schools they apply to, with \"cost\" and \"fit\" affecting whether apply to some schools and not others, and the number of schools they apply to is determined in part by whether they are achievement or income typical\n",
    "* Students have a college budget, the value of which is influenced by their high school income characteristic\n",
    "\n",
    "##B. High Schools\n",
    "* Has an income-characteristic (high, middle, low) of its student population, which determines the distribution of students to schools by app_strategy \n",
    "    - low income schools have a high number of income-typical students to start\n",
    "    - middle income schools have roughly half and half \n",
    "    - high income schools have a high number of achievement-typcal students to start\n",
    "* Space is a small world random graph connecting students of a given school\n",
    "    \n",
    "##C. Colleges\n",
    "* Have a rank\n",
    "* Have a number of seats\n",
    "* Have a sticker price\n",
    "* Have a net price\n",
    "\n",
    "## D. Space containing both colleges and high schools \n",
    "* Bipartite network, in which students move from high schools to college\n",
    "* Different lengths of edges in part determine \"fit\" for student\n",
    "\n",
    "#IV Model Parameters\n",
    "\n",
    "Based on the description above, we need the following model parameters:\n",
    "\n",
    "* num_high_schools: The number of high schools\n",
    "* num_colleges: The number of colleges\n",
    "* num_seats: The total number of seats in colleges \n",
    "* num_students: Total number of students\n",
    "* at_prob: probability of being achievement typical\n",
    "* it_prob: probability of being income typical\n",
    "* switch_prob: probability of switching from IT -> AT, based on interactions with AT \n",
    "* min_college_budget, max_college_budget: ability to afford college prices"
   ]
  },
  {
   "cell_type": "code",
   "execution_count": 1,
   "metadata": {
    "collapsed": false
   },
   "outputs": [
    {
     "name": "stderr",
     "output_type": "stream",
     "text": [
      ":0: FutureWarning: IPython widgets are experimental and may change in the future.\n"
     ]
    }
   ],
   "source": [
    "%matplotlib inline\n",
    "\n",
    "# Standard imports\n",
    "import copy\n",
    "import itertools\n",
    "\n",
    "# Scientific computing imports\n",
    "import numpy\n",
    "import matplotlib.pyplot as plt\n",
    "import networkx\n",
    "import pandas\n",
    "import seaborn; seaborn.set()\n",
    "\n",
    "# Import widget methods\n",
    "from IPython.html.widgets import *"
   ]
  },
  {
   "cell_type": "markdown",
   "metadata": {},
   "source": [
    "#Student Class\n",
    "\n",
    "* constructor: class constructor, which \"initializes\" or \"creates\" the student when we call Student(). This is in the __init__ method.\n",
    "\n",
    "* decide_apply: students decide which colleges to apply to using rules based on their strategy\n",
    "* decide_attend: students decide which college to attend using rules based on their strategy"
   ]
  },
  {
   "cell_type": "code",
   "execution_count": 3,
   "metadata": {
    "collapsed": false
   },
   "outputs": [
    {
     "ename": "SyntaxError",
     "evalue": "invalid syntax (<ipython-input-3-fb3a756f3bd8>, line 6)",
     "output_type": "error",
     "traceback": [
      "\u001b[0;36m  File \u001b[0;32m\"<ipython-input-3-fb3a756f3bd8>\"\u001b[0;36m, line \u001b[0;32m6\u001b[0m\n\u001b[0;31m    app_strategy, college_budget)\u001b[0m\n\u001b[0m                                 ^\u001b[0m\n\u001b[0;31mSyntaxError\u001b[0m\u001b[0;31m:\u001b[0m invalid syntax\n"
     ]
    }
   ],
   "source": [
    "class Student(object): \n",
    "    \"\"\"\n",
    "    Student class, which encapsulates the entire behavior of a student\n",
    "    \"\"\"\n",
    "    def _init_(self, model, student_id, student_ability, student_score, ability_rank, score_rank, \n",
    "               app_strategy, college_budget)\n",
    "        \"\"\"\n",
    "        Constructor for Student class.  \n",
    "          * student ability drawn from a truncated normal distributon **between 0 and 1**\n",
    "          * student score is ability times 2000 plus or minus 200\n",
    "          * ranks are established from all students in that cohort across high schools\n",
    "          * app strategy is either Income Typical or Achievement Typical\n",
    "          \n",
    "        Note that we must \"link\" the Person to their \"parent\" Model object.\n",
    "        \"\"\"\n",
    "        # Set model link and ID\n",
    "        self.model = model\n",
    "        self.student_id = student_id\n",
    "        \n",
    "        # Set person parameters \n",
    "        self.student_ability = student_ability\n",
    "        self.student_score = student_score\n",
    "        self.ability_rank = ability_rank \n",
    "        self.score_rank = score_rank\n",
    "        self.app_strategy = app_strategy\n",
    "        self.college_budget = college_budget\n",
    "        \n",
    "    def decide_apply\n",
    "        \"\"\"\n",
    "        Decide if we want apply to a school\n",
    "        \"\"\"\n",
    "        if self.college_budget >= #sticker price \n",
    "        \n",
    "        #Add to rule: \n",
    "          #Seat Rank Range compared with internal ability rank to judge \"fit\"\n",
    "            #Weight judgements by AT or IT status\n",
    "     \n",
    "    def decide_attend\n",
    "        \"\"\"\n",
    "        Decide if we want attend to a school\n",
    "        \"\"\"\n",
    "        if self.college_budget >= #net price\n",
    "        \n",
    "        #Add to rule: \n",
    "          #Seat Rank Range compared with internal ability rank to judge \"fit\"\n",
    "            #Weight judgements by AT or IT status\n",
    "            #Can only choose to attend 1 school \n",
    "    def switch_status\n",
    "        \"\"\"\n",
    "        Let student switch status from IT to AT with enough interactions with AT students\n",
    "        \"\"\"\n",
    "        #if edges to AT students > a certain number, then re-pull app_strategy from a binomial with a higher p"
   ]
  },
  {
   "cell_type": "markdown",
   "metadata": {},
   "source": [
    "#High School Class"
   ]
  },
  {
   "cell_type": "code",
   "execution_count": 6,
   "metadata": {
    "collapsed": false
   },
   "outputs": [
    {
     "ename": "SyntaxError",
     "evalue": "invalid syntax (<ipython-input-6-e8e9d4bf1892>, line 5)",
     "output_type": "error",
     "traceback": [
      "\u001b[0;36m  File \u001b[0;32m\"<ipython-input-6-e8e9d4bf1892>\"\u001b[0;36m, line \u001b[0;32m5\u001b[0m\n\u001b[0;31m    def _init_(self, model, hs_id, income_profile) #income profile will be low, middle, high\u001b[0m\n\u001b[0m                                                                                            ^\u001b[0m\n\u001b[0;31mSyntaxError\u001b[0m\u001b[0;31m:\u001b[0m invalid syntax\n"
     ]
    }
   ],
   "source": [
    "class High_School(object):\n",
    "    \"\"\"\n",
    "    High School class, which contains students\n",
    "    \"\"\"\n",
    "    def _init_(self, model, hs_id, income_profile) #income profile will be low, middle, high\n",
    "        \n",
    "        #Set model link and ID\n",
    "        self.model = model\n",
    "        self.hs_id = hs_id\n",
    "                  \n",
    "        #Set HS parameter\n",
    "        self.income_profile"
   ]
  },
  {
   "cell_type": "markdown",
   "metadata": {},
   "source": [
    "#College Class"
   ]
  },
  {
   "cell_type": "code",
   "execution_count": null,
   "metadata": {
    "collapsed": true
   },
   "outputs": [],
   "source": [
    "class College(object): \n",
    "    \"\"\"\n",
    "    College class, which accepts, rejects students and then contains matriculaters \n",
    "    \"\"\"\n",
    "    def _init_(self, model, c_id, rank, num_seats, sticker_price, net_price, admit_standard) \n",
    "    \n",
    "    #Set model link and ID\n",
    "        self.model = model\n",
    "        self.c_id = c_id\n",
    "                  \n",
    "        #Set HS parameter\n",
    "        self.rank = rank\n",
    "        self.num_seats = num_seats\n",
    "        self.sticker_price = sticker_price\n",
    "        self.net_price = net_price\n",
    "        self.admit_standard = admit_standard\n",
    "        \n",
    "    def decide_admit:\n",
    "        \"\"\"\n",
    "        Decide if applicant will be admitted\n",
    "        \"\"\"\n",
    "        #Score > Min Score of previous year's admitted class\n",
    "    def send_info: \n",
    "        \"\"\"\n",
    "        Send information to students\n",
    "        \"\"\""
   ]
  },
  {
   "cell_type": "markdown",
   "metadata": {},
   "source": [
    "#Model Class \n",
    "\n",
    "constructor: class constructor, which \"initializes\" or \"creates\" the model when we call Model(). This is in the __init__ method.\n",
    "\n",
    "setup_space: method to create our space\n",
    "\n",
    "setup_people: method to create our people\n",
    "\n",
    "setup_highschool: method to create our high schools\n",
    "\n",
    "setup_college: method to create our colleges \n",
    "\n",
    "get_classmates: method to get neighboring students based on high school\n",
    "\n",
    "\n",
    "----------------\n",
    "\n",
    "step_move: method to step through agent moves\n",
    "\n",
    "step_interact: method to step through agent interaction\n",
    "\n",
    "step: main step method to control each time step simulation "
   ]
  },
  {
   "cell_type": "code",
   "execution_count": 1,
   "metadata": {
    "collapsed": false
   },
   "outputs": [
    {
     "ename": "IndentationError",
     "evalue": "expected an indented block (<ipython-input-1-bc5cd9e82417>, line 8)",
     "output_type": "error",
     "traceback": [
      "\u001b[0;36m  File \u001b[0;32m\"<ipython-input-1-bc5cd9e82417>\"\u001b[0;36m, line \u001b[0;32m8\u001b[0m\n\u001b[0;31m    phe):\u001b[0m\n\u001b[0m         ^\u001b[0m\n\u001b[0;31mIndentationError\u001b[0m\u001b[0;31m:\u001b[0m expected an indented block\n"
     ]
    }
   ],
   "source": [
    "class Model(object):\n",
    "    \"\"\"\n",
    "    Model Class\n",
    "    \"\"\"\n",
    "    def _init_(self, population_size, information_network_type=\"default\",\n",
    "              infection_rate=0.1, defend_probability=.1,\n",
    "              phe):"
   ]
  },
  {
   "cell_type": "code",
   "execution_count": null,
   "metadata": {
    "collapsed": true
   },
   "outputs": [],
   "source": []
  }
 ],
 "metadata": {
  "kernelspec": {
   "display_name": "Python 2",
   "name": "python2"
  },
  "language_info": {
   "codemirror_mode": {
    "name": "ipython",
    "version": 2
   },
   "file_extension": ".py",
   "mimetype": "text/x-python",
   "name": "python",
   "nbconvert_exporter": "python",
   "pygments_lexer": "ipython2",
   "version": "2.7.8"
  }
 },
 "nbformat": 4,
 "nbformat_minor": 0
}
