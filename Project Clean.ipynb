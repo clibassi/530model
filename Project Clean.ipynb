{
 "cells": [
  {
   "cell_type": "code",
   "execution_count": 2,
   "metadata": {
    "collapsed": false
   },
   "outputs": [],
   "source": [
    "%matplotlib inline\n",
    "\n",
    "# Standard imports\n",
    "import copy\n",
    "import itertools\n",
    "\n",
    "# Scientific computing imports\n",
    "import numpy as np\n",
    "import matplotlib.pyplot as plt\n",
    "import networkx as nx\n",
    "import pandas\n",
    "import seaborn; seaborn.set()\n",
    "\n",
    "# Import widget methods\n",
    "from IPython.html.widgets import *"
   ]
  },
  {
   "cell_type": "markdown",
   "metadata": {},
   "source": [
    "#Student Class"
   ]
  },
  {
   "cell_type": "code",
   "execution_count": 23,
   "metadata": {
    "collapsed": false
   },
   "outputs": [],
   "source": [
    "class Student(object):\n",
    "    \n",
    "    def __init__(self, school_id, cohort_id, student_id, student_ability, student_score, \n",
    "                 ability_rank, score_rank, app_strategy, college_budget, age=0):\n",
    "        \"\"\"\n",
    "        Constructor for Student class.  \n",
    "          * student ability drawn from a truncated normal distributon **between 0 and 1**\n",
    "          * student score is ability times 2000 plus or minus 200\n",
    "          * ranks are established from all students in that cohort across high schools\n",
    "          * app strategy is either Income Typical or Achievement Typical\n",
    "          \n",
    "        Note that we must \"link\" the Person to their \"parent\" Model object.\n",
    "        \"\"\"\n",
    "        # Set model link and ID\n",
    "        self.school_id = school_id\n",
    "        self.cohort_id = cohort_id\n",
    "        self.student_id = student_id\n",
    "        \n",
    "        # Set student parameters \n",
    "        self.student_ability = student_ability\n",
    "        self.student_score = student_score\n",
    "        self.ability_rank = ability_rank \n",
    "        self.score_rank = score_rank\n",
    "        self.app_strategy = app_strategy\n",
    "        self.college_budget = college_budget\n",
    "        \n",
    "    \n",
    "        "
   ]
  },
  {
   "cell_type": "code",
   "execution_count": 25,
   "metadata": {
    "collapsed": true
   },
   "outputs": [],
   "source": [
    "student_graphs = {}"
   ]
  },
  {
   "cell_type": "markdown",
   "metadata": {},
   "source": [
    "#Model Class\n",
    "\n",
    "* constructor: class constructor, which \"initializes\" or \"creates\" the model when we call Model(). This is in the __init__ method.\n"
   ]
  },
  {
   "cell_type": "code",
   "execution_count": 30,
   "metadata": {
    "collapsed": false
   },
   "outputs": [],
   "source": [
    "class Model(object):\n",
    "    \"\"\"\n",
    "    Model Class, which encapsulates the entire behavior in each run of the model\n",
    "    \"\"\"\n",
    "    def __init__(self, num_students, num_colleges, num_high_schools, num_seats, num_cohorts=3, \n",
    "               prob_out=.1, min_sticker_price=10000, max_sticker_price=50000, min_net_price=0, \n",
    "               max_net_price=50000, min_college_budget=0, max_college_budget=100000, at_prob_l=.2, \n",
    "               at_prob_m=.5, at_prob_h=.8, switch_prob=.6):\n",
    "        \n",
    "        #Set Model parameters \n",
    "        self.num_students = num_students\n",
    "        self.min_sticker_price = min_sticker_price\n",
    "        self.max_sticker_price = max_sticker_price\n",
    "        self.min_net_price = min_net_price\n",
    "        self.max_net_price = max_net_price\n",
    "        self.min_college_budget = min_college_budget\n",
    "        self.max_college_budget = max_college_budget\n",
    "        self.num_high_schools = num_high_schools\n",
    "        self.num_colleges = num_colleges\n",
    "        self.num_seats = num_seats\n",
    "        self.at_prob_l = at_prob_l\n",
    "        self.at_prob_m = at_prob_m\n",
    "        self.at_prob_h = at_prob_h\n",
    "        self.switch_prob = switch_prob \n",
    "        \n",
    "        #Set empty dictionary for storing graph\n",
    "        student_graphs = {}\n",
    "        \n",
    "        # Call our setup methods to initialize high school space, students \n",
    "        setup_hs_space()\n",
    "        \n",
    "        \n",
    "    def setup_hs_space(self):\n",
    "        \"\"\"\n",
    "        Set up small world networks within highschools\n",
    "        \"\"\"\n",
    "        # school list\n",
    "        school_list = string.ascii_uppercase[0:num_schools]\n",
    "\n",
    "        # Iterate\n",
    "        for school_id in school_list:\n",
    "            # Set the school ID\n",
    "            num_cohorts = 3\n",
    "            prob_out = 0.1\n",
    "\n",
    "            # Setup empty school dictionary key\n",
    "            student_graphs[school_id] = {}\n",
    "\n",
    "            # Iterate through each cohort\n",
    "            for cohort_id in range(num_cohorts):\n",
    "                # Create graph randomly\n",
    "                num_students = numpy.random.randint(50, 500)\n",
    "                num_friends = 2 + numpy.random.binomial(4, 0.5)\n",
    "                g = nx.newman_watts_strogatz_graph(num_students, num_friends, prob_out)\n",
    "\n",
    "                # Create students\n",
    "                for node_id in g.nodes():\n",
    "                    # Set a student class as an attribute\n",
    "                    g.node[node_id] = Student(school_id, cohort_id, node_id)\n",
    "\n",
    "                # Set school-cohort graph into dictionary\n",
    "                student_graphs[school_id][cohort_id].node[student_id] = g "
   ]
  },
  {
   "cell_type": "code",
   "execution_count": 31,
   "metadata": {
    "collapsed": false
   },
   "outputs": [
    {
     "data": {
      "text/plain": [
       "{}"
      ]
     },
     "execution_count": 31,
     "metadata": {},
     "output_type": "execute_result"
    }
   ],
   "source": [
    "student_graphs"
   ]
  },
  {
   "cell_type": "code",
   "execution_count": null,
   "metadata": {
    "collapsed": true
   },
   "outputs": [],
   "source": []
  }
 ],
 "metadata": {
  "kernelspec": {
   "display_name": "Python 2",
   "name": "python2"
  },
  "language_info": {
   "codemirror_mode": {
    "name": "ipython",
    "version": 2
   },
   "file_extension": ".py",
   "mimetype": "text/x-python",
   "name": "python",
   "nbconvert_exporter": "python",
   "pygments_lexer": "ipython2",
   "version": "2.7.8"
  }
 },
 "nbformat": 4,
 "nbformat_minor": 0
}
