{
 "cells": [
  {
   "cell_type": "code",
   "execution_count": 3,
   "metadata": {
    "collapsed": false
   },
   "outputs": [],
   "source": [
    "# Imports\n",
    "import networkx as nx\n",
    "import numpy\n",
    "import string"
   ]
  },
  {
   "cell_type": "code",
   "execution_count": 4,
   "metadata": {
    "collapsed": true
   },
   "outputs": [],
   "source": [
    "class Student(object):\n",
    "    \n",
    "    def __init__(self, school_id, cohort_id, student_id):\n",
    "        self.school_id = school_id\n",
    "        self.cohort_id = cohort_id\n",
    "        self.student_id = student_id"
   ]
  },
  {
   "cell_type": "code",
   "execution_count": 5,
   "metadata": {
    "collapsed": true
   },
   "outputs": [],
   "source": [
    "# Dictionary to store all graphs\n",
    "student_graphs = {}\n"
   ]
  },
  {
   "cell_type": "code",
   "execution_count": 36,
   "metadata": {
    "collapsed": false
   },
   "outputs": [],
   "source": [
    "# school list\n",
    "school_list = string.ascii_uppercase\n",
    "\n",
    "# Iterate\n",
    "for school_id in school_list:\n",
    "    # Set the school ID\n",
    "    num_cohorts = 3\n",
    "    prob_out = 0.1\n",
    "\n",
    "    # Setup empty school dictionary key\n",
    "    student_graphs[school_id] = {}\n",
    "\n",
    "    # Iterate through each cohort\n",
    "    for cohort_id in range(num_cohorts):\n",
    "        # Create graph randomly\n",
    "        num_students = numpy.random.randint(50, 100)\n",
    "        num_friends = 2 + numpy.random.binomial(4, 0.5)\n",
    "        g = nx.newman_watts_strogatz_graph(num_students, num_friends, prob_out)\n",
    "        \n",
    "        # Setup empty cohort dictionary key \n",
    "        student_graphs[school_id][cohort_id] = {}\n",
    "\n",
    "        # Create students\n",
    "        for node_id in g.nodes():\n",
    "            # Set a student class as an attribute\n",
    "            g.node[node_id] = Student(school_id, cohort_id, node_id)\n",
    "\n",
    "            # Set school-cohort graph into dictionary\n",
    "            student_graphs[school_id][cohort_id].node[student_id] = g "
   ]
  },
  {
   "cell_type": "code",
   "execution_count": 35,
   "metadata": {
    "collapsed": false
   },
   "outputs": [
    {
     "data": {
      "text/plain": [
       "{'A': {0: <networkx.classes.graph.Graph at 0x10589ac90>,\n",
       "  1: <networkx.classes.graph.Graph at 0x10522e1d0>,\n",
       "  2: <networkx.classes.graph.Graph at 0x10522df90>},\n",
       " 'B': {0: <networkx.classes.graph.Graph at 0x105734bd0>,\n",
       "  1: <networkx.classes.graph.Graph at 0x105734b90>,\n",
       "  2: <networkx.classes.graph.Graph at 0x105843b50>},\n",
       " 'C': {0: <networkx.classes.graph.Graph at 0x105811850>,\n",
       "  1: <networkx.classes.graph.Graph at 0x105811810>,\n",
       "  2: <networkx.classes.graph.Graph at 0x1052a6ed0>},\n",
       " 'D': {0: <networkx.classes.graph.Graph at 0x1052fb6d0>,\n",
       "  1: <networkx.classes.graph.Graph at 0x1052fb690>,\n",
       "  2: <networkx.classes.graph.Graph at 0x1052b4e50>},\n",
       " 'E': {0: <networkx.classes.graph.Graph at 0x105334a10>,\n",
       "  1: <networkx.classes.graph.Graph at 0x1053349d0>,\n",
       "  2: <networkx.classes.graph.Graph at 0x10531f5d0>},\n",
       " 'F': {0: <networkx.classes.graph.Graph at 0x10594f110>,\n",
       "  1: <networkx.classes.graph.Graph at 0x10594f0d0>,\n",
       "  2: <networkx.classes.graph.Graph at 0x10530e7d0>},\n",
       " 'G': {0: <networkx.classes.graph.Graph at 0x105572e90>,\n",
       "  1: <networkx.classes.graph.Graph at 0x105572e50>,\n",
       "  2: <networkx.classes.graph.Graph at 0x10534a190>},\n",
       " 'H': {0: <networkx.classes.graph.Graph at 0x1058690d0>,\n",
       "  1: <networkx.classes.graph.Graph at 0x105869110>,\n",
       "  2: <networkx.classes.graph.Graph at 0x1053f9bd0>},\n",
       " 'I': {0: <networkx.classes.graph.Graph at 0x1052a6190>,\n",
       "  1: <networkx.classes.graph.Graph at 0x1052a6f90>,\n",
       "  2: <networkx.classes.graph.Graph at 0x1054262d0>},\n",
       " 'J': {0: <networkx.classes.graph.Graph at 0x10522edd0>,\n",
       "  1: <networkx.classes.graph.Graph at 0x10522ed90>,\n",
       "  2: <networkx.classes.graph.Graph at 0x105475310>},\n",
       " 'K': {0: <networkx.classes.graph.Graph at 0x1052fbd90>,\n",
       "  1: <networkx.classes.graph.Graph at 0x1052fbd50>,\n",
       "  2: <networkx.classes.graph.Graph at 0x1054c5610>},\n",
       " 'L': {0: <networkx.classes.graph.Graph at 0x1054c55d0>,\n",
       "  1: <networkx.classes.graph.Graph at 0x1054c5250>,\n",
       "  2: <networkx.classes.graph.Graph at 0x1054e68d0>},\n",
       " 'M': {0: <networkx.classes.graph.Graph at 0x1052fb810>,\n",
       "  1: <networkx.classes.graph.Graph at 0x1052fb7d0>,\n",
       "  2: <networkx.classes.graph.Graph at 0x10554a3d0>},\n",
       " 'N': {0: <networkx.classes.graph.Graph at 0x105564210>,\n",
       "  1: <networkx.classes.graph.Graph at 0x1055641d0>,\n",
       "  2: <networkx.classes.graph.Graph at 0x10554a190>},\n",
       " 'O': {0: <networkx.classes.graph.Graph at 0x1055c4410>,\n",
       "  1: <networkx.classes.graph.Graph at 0x1055c43d0>,\n",
       "  2: <networkx.classes.graph.Graph at 0x105595510>},\n",
       " 'P': {0: <networkx.classes.graph.Graph at 0x10560bb50>,\n",
       "  1: <networkx.classes.graph.Graph at 0x10560bb10>,\n",
       "  2: <networkx.classes.graph.Graph at 0x1055eec90>},\n",
       " 'Q': {0: <networkx.classes.graph.Graph at 0x105557b50>,\n",
       "  1: <networkx.classes.graph.Graph at 0x105557bd0>,\n",
       "  2: <networkx.classes.graph.Graph at 0x1025eb2d0>},\n",
       " 'R': {0: <networkx.classes.graph.Graph at 0x105690750>,\n",
       "  1: <networkx.classes.graph.Graph at 0x105690710>,\n",
       "  2: <networkx.classes.graph.Graph at 0x105676510>},\n",
       " 'S': {0: <networkx.classes.graph.Graph at 0x10551ec10>,\n",
       "  1: <networkx.classes.graph.Graph at 0x10551ebd0>,\n",
       "  2: <networkx.classes.graph.Graph at 0x105425310>},\n",
       " 'T': {0: <networkx.classes.graph.Graph at 0x105690890>,\n",
       "  1: <networkx.classes.graph.Graph at 0x105690850>,\n",
       "  2: <networkx.classes.graph.Graph at 0x10571c650>},\n",
       " 'U': {0: <networkx.classes.graph.Graph at 0x1056defd0>,\n",
       "  1: <networkx.classes.graph.Graph at 0x1056dea90>,\n",
       "  2: <networkx.classes.graph.Graph at 0x1056d5690>},\n",
       " 'V': {0: <networkx.classes.graph.Graph at 0x10578bb50>,\n",
       "  1: <networkx.classes.graph.Graph at 0x10578bb10>,\n",
       "  2: <networkx.classes.graph.Graph at 0x10576ee90>},\n",
       " 'W': {0: <networkx.classes.graph.Graph at 0x1057347d0>,\n",
       "  1: <networkx.classes.graph.Graph at 0x105734810>,\n",
       "  2: <networkx.classes.graph.Graph at 0x1057b9e90>},\n",
       " 'X': {0: <networkx.classes.graph.Graph at 0x1057ae510>,\n",
       "  1: <networkx.classes.graph.Graph at 0x1057ae890>,\n",
       "  2: <networkx.classes.graph.Graph at 0x10580b450>},\n",
       " 'Y': {0: <networkx.classes.graph.Graph at 0x10581acd0>,\n",
       "  1: <networkx.classes.graph.Graph at 0x10581ac90>,\n",
       "  2: <networkx.classes.graph.Graph at 0x10584c610>},\n",
       " 'Z': {0: <networkx.classes.graph.Graph at 0x10578bc90>,\n",
       "  1: <networkx.classes.graph.Graph at 0x10578bc50>,\n",
       "  2: <networkx.classes.graph.Graph at 0x10587a750>}}"
      ]
     },
     "execution_count": 35,
     "metadata": {},
     "output_type": "execute_result"
    }
   ],
   "source": [
    "student_graphs"
   ]
  },
  {
   "cell_type": "code",
   "execution_count": 10,
   "metadata": {
    "collapsed": false
   },
   "outputs": [],
   "source": [
    "for school_id in school_list:\n",
    "    for cohort_id in range(num_cohorts):\n",
    "        for student_id in student_graphs[school_id][cohort_id].nodes_iter():\n",
    "            # Access student in dictionary\n",
    "            student = student_graphs[school_id][cohort_id].node[student_id]\n",
    "            # Print info\n",
    "            #print((student, school_id, cohort_id, student.student_id))"
   ]
  },
  {
   "cell_type": "code",
   "execution_count": 15,
   "metadata": {
    "collapsed": true
   },
   "outputs": [],
   "source": [
    "class MyClass:\n",
    "    \"\"\"A simple example class\"\"\"\n",
    "    i = 12345\n",
    "    def f(self):\n",
    "        return 'hello world'"
   ]
  },
  {
   "cell_type": "code",
   "execution_count": 15,
   "metadata": {
    "collapsed": false
   },
   "outputs": [],
   "source": []
  },
  {
   "cell_type": "code",
   "execution_count": 17,
   "metadata": {
    "collapsed": false
   },
   "outputs": [
    {
     "data": {
      "text/plain": [
       "3.0"
      ]
     },
     "execution_count": 17,
     "metadata": {},
     "output_type": "execute_result"
    }
   ],
   "source": [
    "class Complex:\n",
    "     def __init__(self, realpart, imagpart):\n",
    "        self.r = realpart\n",
    "        self.i = imagpart\n",
    "\n",
    "x = Complex(3.0, -4.5)\n",
    "x.r"
   ]
  },
  {
   "cell_type": "code",
   "execution_count": 18,
   "metadata": {
    "collapsed": false
   },
   "outputs": [
    {
     "data": {
      "text/plain": [
       "-4.5"
      ]
     },
     "execution_count": 18,
     "metadata": {},
     "output_type": "execute_result"
    }
   ],
   "source": [
    "x.i"
   ]
  },
  {
   "cell_type": "code",
   "execution_count": null,
   "metadata": {
    "collapsed": true
   },
   "outputs": [],
   "source": []
  }
 ],
 "metadata": {
  "kernelspec": {
   "display_name": "Python 2",
   "name": "python2"
  },
  "language_info": {
   "codemirror_mode": {
    "name": "ipython",
    "version": 2
   },
   "file_extension": ".py",
   "mimetype": "text/x-python",
   "name": "python",
   "nbconvert_exporter": "python",
   "pygments_lexer": "ipython2",
   "version": "2.7.8"
  }
 },
 "nbformat": 4,
 "nbformat_minor": 0
}
