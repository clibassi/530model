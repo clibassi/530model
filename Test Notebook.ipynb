{
 "cells": [
  {
   "cell_type": "code",
   "execution_count": 52,
   "metadata": {
    "collapsed": false
   },
   "outputs": [],
   "source": [
    "# Imports\n",
    "import networkx as nx\n",
    "import numpy as np\n",
    "import string\n",
    "import scipy.stats as sci"
   ]
  },
  {
   "cell_type": "code",
   "execution_count": 116,
   "metadata": {
    "collapsed": false
   },
   "outputs": [],
   "source": [
    "class Student(object):\n",
    "    \n",
    "    def __init__(self, school_id, cohort_id, student_id, app_strategy, student_ability=0, \n",
    "                 ability_rank=0, SAT=800, score_rank=0, college_budget=1000, age=0):\n",
    "        \"\"\"\n",
    "        Constructor for Student class.  \n",
    "          * student ability drawn from a truncated normal distributon **between 0 and 1**\n",
    "          * student score is ability times 2000 plus or minus 200\n",
    "          * ranks are established from all students in that cohort across high schools\n",
    "          * app strategy is either Income Typical or Achievement Typical\n",
    "          \n",
    "        Note that we must \"link\" the Person to their \"parent\" Model object.\n",
    "        \"\"\"\n",
    "        # Set model link and ID\n",
    "        self.school_id = school_id\n",
    "        self.cohort_id = cohort_id\n",
    "        self.student_id = student_id\n",
    "        \n",
    "        # Set student parameters \n",
    "        self.student_ability = student_ability\n",
    "        self.student_score = student_score\n",
    "        self.ability_rank = ability_rank \n",
    "        self.score_rank = score_rank\n",
    "        self.app_strategy = app_strategy\n",
    "        self.college_budget = 5000\n",
    "        self.age = age \n",
    "        self.SAT = (student_ability*2000)+np.random.randint(-200,200)"
   ]
  },
  {
   "cell_type": "code",
   "execution_count": 67,
   "metadata": {
    "collapsed": true
   },
   "outputs": [],
   "source": [
    "# Dictionary to store all graphs\n",
    "student_graphs = {}"
   ]
  },
  {
   "cell_type": "code",
   "execution_count": 54,
   "metadata": {
    "collapsed": true
   },
   "outputs": [],
   "source": []
  },
  {
   "cell_type": "code",
   "execution_count": 173,
   "metadata": {
    "collapsed": false
   },
   "outputs": [],
   "source": [
    "# school list\n",
    "school_list = string.ascii_uppercase\n",
    "\n",
    "# Iterate\n",
    "for school_id in school_list:\n",
    "    # Set the school ID\n",
    "    num_cohorts = 3\n",
    "    prob_out = 0.1\n",
    "\n",
    "    # Setup empty school dictionary key\n",
    "    student_graphs[school_id] = {}\n",
    "\n",
    "    # Iterate through each cohort\n",
    "    for cohort_id in range(num_cohorts):\n",
    "        # Create graph randomly\n",
    "        num_students = np.random.randint(50, 200)\n",
    "        num_friends = 2 + np.random.binomial(4, 0.5)\n",
    "        g = nx.newman_watts_strogatz_graph(num_students, num_friends, prob_out)\n",
    "        \n",
    "        # Setup empty cohort dictionary key \n",
    "        student_graphs[school_id][cohort_id] = {}\n",
    "\n",
    "        # Create students\n",
    "        for node_id in g.nodes():\n",
    "            # Set a student class as an attribute\n",
    "            g.node[node_id] = Student(school_id, cohort_id, node_id, \n",
    "                                      student_ability=sci.truncnorm.rvs(0, 1, size=1), \n",
    "                                      app_strategy=np.random.binomial(1, .5, 1))\n",
    "\n",
    "            # Set school-cohort graph into dictionary\n",
    "            student_graphs[school_id][cohort_id] = g "
   ]
  },
  {
   "cell_type": "code",
   "execution_count": 70,
   "metadata": {
    "collapsed": false
   },
   "outputs": [
    {
     "name": "stdout",
     "output_type": "stream",
     "text": [
      "2994\n",
      "2974\n"
     ]
    }
   ],
   "source": [
    "income_typical = 0\n",
    "achievement_typical = 0 \n",
    "for school_id in school_list:\n",
    "    for cohort_id in range(num_cohorts):\n",
    "        for student in student_graphs[school_id][cohort_id]:\n",
    "            if student_graphs[school_id][cohort_id].node[student].app_strategy==1:\n",
    "                    achievement_typical +=1\n",
    "            else: \n",
    "                income_typical +=1\n",
    "                \n",
    "                \n",
    "print income_typical\n",
    "print achievement_typical\n",
    "            \n",
    "            "
   ]
  },
  {
   "cell_type": "code",
   "execution_count": 185,
   "metadata": {
    "collapsed": false
   },
   "outputs": [],
   "source": [
    "students = []\n",
    "\n",
    "for school_id in student_graphs:\n",
    "    for cohort_id in student_graphs[school_id]:\n",
    "        for student_id in student_graphs[school_id][cohort_id]:\n",
    "            students.append(Student(school_id=school_id, cohort_id=cohort_id, \n",
    "                                    student_id=student_id, student_ability=sci.truncnorm.rvs(0, 1, size=1), \n",
    "                                    ability_rank=0, score_rank=0, app_strategy=np.random.binomial(1, .50, 1),\n",
    "                                    college_budget=1000, age=0))  \n",
    "            \n"
   ]
  },
  {
   "cell_type": "code",
   "execution_count": 33,
   "metadata": {
    "collapsed": false
   },
   "outputs": [],
   "source": [
    "#for student in students: \n",
    "    #print student.student_ability"
   ]
  },
  {
   "cell_type": "code",
   "execution_count": 66,
   "metadata": {
    "collapsed": false
   },
   "outputs": [
    {
     "name": "stdout",
     "output_type": "stream",
     "text": [
      "{57: {}, 55: {}}\n",
      "{57: {}, 59: {}}\n",
      "{57: {}, 58: {}, 54: {}, 55: {}}\n",
      "{56: {}, 58: {}, 59: {}, 55: {}}\n",
      "{57: {}, 58: {}, 60: {}, 61: {}}\n",
      "{58: {}, 59: {}, 61: {}, 62: {}}\n",
      "{56: {}, 57: {}, 59: {}, 60: {}}\n",
      "{57: {}, 58: {}, 60: {}, 61: {}}\n",
      "{59: {}, 60: {}, 62: {}, 63: {}}\n",
      "{64: {}, 60: {}, 61: {}, 63: {}}\n",
      "{65: {}, 66: {}, 62: {}, 63: {}}\n",
      "{62: {}, 34: {}, 35: {}, 37: {}, 38: {}}\n",
      "{35: {}, 58: {}, 59: {}, 61: {}, 62: {}}\n",
      "{81: {}, 59: {}, 60: {}, 62: {}, 63: {}}\n",
      "{64: {}, 65: {}, 61: {}, 62: {}}\n"
     ]
    },
    {
     "ename": "KeyError",
     "evalue": "63",
     "output_type": "error",
     "traceback": [
      "\u001b[0;31m---------------------------------------------------------------------------\u001b[0m",
      "\u001b[0;31mKeyError\u001b[0m                                  Traceback (most recent call last)",
      "\u001b[0;32m<ipython-input-66-3875397692c0>\u001b[0m in \u001b[0;36m<module>\u001b[0;34m()\u001b[0m\n\u001b[1;32m      1\u001b[0m \u001b[0;32mfor\u001b[0m \u001b[0mschool_id\u001b[0m \u001b[0;32min\u001b[0m \u001b[0mschool_list\u001b[0m\u001b[0;34m:\u001b[0m\u001b[0;34m\u001b[0m\u001b[0m\n\u001b[1;32m      2\u001b[0m     \u001b[0;32mfor\u001b[0m \u001b[0mcohort_id\u001b[0m \u001b[0;32min\u001b[0m \u001b[0mrange\u001b[0m\u001b[0;34m(\u001b[0m\u001b[0mnum_cohorts\u001b[0m\u001b[0;34m)\u001b[0m\u001b[0;34m:\u001b[0m\u001b[0;34m\u001b[0m\u001b[0m\n\u001b[0;32m----> 3\u001b[0;31m         \u001b[0;32mfor\u001b[0m \u001b[0mstudent_id\u001b[0m \u001b[0;32min\u001b[0m \u001b[0mstudent_graphs\u001b[0m\u001b[0;34m[\u001b[0m\u001b[0mschool_id\u001b[0m\u001b[0;34m]\u001b[0m\u001b[0;34m[\u001b[0m\u001b[0mcohort_id\u001b[0m\u001b[0;34m]\u001b[0m\u001b[0;34m[\u001b[0m\u001b[0mstudent_id\u001b[0m\u001b[0;34m]\u001b[0m\u001b[0;34m:\u001b[0m\u001b[0;34m\u001b[0m\u001b[0m\n\u001b[0m\u001b[1;32m      4\u001b[0m             \u001b[0;31m# Access student in dictionary\u001b[0m\u001b[0;34m\u001b[0m\u001b[0;34m\u001b[0m\u001b[0m\n\u001b[1;32m      5\u001b[0m             \u001b[0mstudent\u001b[0m \u001b[0;34m=\u001b[0m \u001b[0mstudent_graphs\u001b[0m\u001b[0;34m[\u001b[0m\u001b[0mschool_id\u001b[0m\u001b[0;34m]\u001b[0m\u001b[0;34m[\u001b[0m\u001b[0mcohort_id\u001b[0m\u001b[0;34m]\u001b[0m\u001b[0;34m[\u001b[0m\u001b[0mstudent_id\u001b[0m\u001b[0;34m]\u001b[0m\u001b[0;34m\u001b[0m\u001b[0m\n",
      "\u001b[0;32m/Users/cjlibassi/anaconda/lib/python2.7/site-packages/networkx/classes/graph.pyc\u001b[0m in \u001b[0;36m__getitem__\u001b[0;34m(self, n)\u001b[0m\n\u001b[1;32m    317\u001b[0m         \u001b[0;34m{\u001b[0m\u001b[0;36m1\u001b[0m\u001b[0;34m:\u001b[0m \u001b[0;34m{\u001b[0m\u001b[0;34m}\u001b[0m\u001b[0;34m}\u001b[0m\u001b[0;34m\u001b[0m\u001b[0m\n\u001b[1;32m    318\u001b[0m         \"\"\"\n\u001b[0;32m--> 319\u001b[0;31m         \u001b[0;32mreturn\u001b[0m \u001b[0mself\u001b[0m\u001b[0;34m.\u001b[0m\u001b[0madj\u001b[0m\u001b[0;34m[\u001b[0m\u001b[0mn\u001b[0m\u001b[0;34m]\u001b[0m\u001b[0;34m\u001b[0m\u001b[0m\n\u001b[0m\u001b[1;32m    320\u001b[0m \u001b[0;34m\u001b[0m\u001b[0m\n\u001b[1;32m    321\u001b[0m \u001b[0;34m\u001b[0m\u001b[0m\n",
      "\u001b[0;31mKeyError\u001b[0m: 63"
     ]
    }
   ],
   "source": [
    "for school_id in school_list:\n",
    "    for cohort_id in range(num_cohorts):\n",
    "        for student_id in student_graphs[school_id][cohort_id][student_id]:\n",
    "            # Access student in dictionary\n",
    "            student = student_graphs[school_id][cohort_id][student_id]\n",
    "            # Print info\n",
    "            print student"
   ]
  },
  {
   "cell_type": "code",
   "execution_count": 35,
   "metadata": {
    "collapsed": true
   },
   "outputs": [],
   "source": [
    "class MyClass:\n",
    "    \"\"\"A simple example class\"\"\"\n",
    "    i = 12345\n",
    "    def f(self):\n",
    "        return 'hello world'"
   ]
  },
  {
   "cell_type": "code",
   "execution_count": 36,
   "metadata": {
    "collapsed": false
   },
   "outputs": [
    {
     "data": {
      "text/plain": [
       "3.0"
      ]
     },
     "execution_count": 36,
     "metadata": {},
     "output_type": "execute_result"
    }
   ],
   "source": [
    "class Complex:\n",
    "     def __init__(self, realpart, imagpart):\n",
    "        self.r = realpart\n",
    "        self.i = imagpart\n",
    "\n",
    "x = Complex(3.0, -4.5)\n",
    "x.r"
   ]
  },
  {
   "cell_type": "code",
   "execution_count": 37,
   "metadata": {
    "collapsed": false
   },
   "outputs": [
    {
     "data": {
      "text/plain": [
       "-4.5"
      ]
     },
     "execution_count": 37,
     "metadata": {},
     "output_type": "execute_result"
    }
   ],
   "source": [
    "x.i"
   ]
  },
  {
   "cell_type": "code",
   "execution_count": 38,
   "metadata": {
    "collapsed": false
   },
   "outputs": [
    {
     "ename": "KeyError",
     "evalue": "'C'",
     "output_type": "error",
     "traceback": [
      "\u001b[0;31m---------------------------------------------------------------------------\u001b[0m",
      "\u001b[0;31mKeyError\u001b[0m                                  Traceback (most recent call last)",
      "\u001b[0;32m<ipython-input-38-c59c8f7137c8>\u001b[0m in \u001b[0;36m<module>\u001b[0;34m()\u001b[0m\n\u001b[0;32m----> 1\u001b[0;31m \u001b[0mx\u001b[0m \u001b[0;34m=\u001b[0m \u001b[0mstudent_graphs\u001b[0m\u001b[0;34m[\u001b[0m\u001b[0;34m'C'\u001b[0m\u001b[0;34m]\u001b[0m\u001b[0;34m[\u001b[0m\u001b[0;36m2\u001b[0m\u001b[0;34m]\u001b[0m\u001b[0;34m[\u001b[0m\u001b[0;36m3\u001b[0m\u001b[0;34m]\u001b[0m\u001b[0;34m\u001b[0m\u001b[0m\n\u001b[0m\u001b[1;32m      2\u001b[0m \u001b[0;32mprint\u001b[0m \u001b[0mx\u001b[0m\u001b[0;34m\u001b[0m\u001b[0m\n\u001b[1;32m      3\u001b[0m \u001b[0;32mfor\u001b[0m \u001b[0mi\u001b[0m \u001b[0;32min\u001b[0m \u001b[0mx\u001b[0m\u001b[0;34m.\u001b[0m\u001b[0mnodes\u001b[0m\u001b[0;34m(\u001b[0m\u001b[0;34m)\u001b[0m\u001b[0;34m:\u001b[0m\u001b[0;34m\u001b[0m\u001b[0m\n\u001b[1;32m      4\u001b[0m     \u001b[0mmy_student\u001b[0m \u001b[0;34m=\u001b[0m \u001b[0mx\u001b[0m\u001b[0;34m.\u001b[0m\u001b[0mnode\u001b[0m\u001b[0;34m[\u001b[0m\u001b[0mi\u001b[0m\u001b[0;34m]\u001b[0m\u001b[0;34m\u001b[0m\u001b[0m\n\u001b[1;32m      5\u001b[0m     \u001b[0mschool\u001b[0m \u001b[0;34m=\u001b[0m \u001b[0mmy_student\u001b[0m\u001b[0;34m.\u001b[0m\u001b[0mschool_id\u001b[0m\u001b[0;34m\u001b[0m\u001b[0m\n",
      "\u001b[0;31mKeyError\u001b[0m: 'C'"
     ]
    }
   ],
   "source": [
    "x = student_graphs['C'][2][3]\n",
    "print x\n",
    "for i in x.nodes():\n",
    "    my_student = x.node[i]\n",
    "    school = my_student.school_id\n",
    "    cohort = str(my_student.cohort_id)\n",
    "    student = str(my_student.student_id)\n",
    "    g = school+cohort+student\n"
   ]
  },
  {
   "cell_type": "code",
   "execution_count": 39,
   "metadata": {
    "collapsed": false
   },
   "outputs": [
    {
     "data": {
      "text/plain": [
       "'ABCDEFGHIJKLMNOPQRSTUVWXYZ'"
      ]
     },
     "execution_count": 39,
     "metadata": {},
     "output_type": "execute_result"
    }
   ],
   "source": [
    "string.ascii_uppercase"
   ]
  },
  {
   "cell_type": "code",
   "execution_count": 40,
   "metadata": {
    "collapsed": false
   },
   "outputs": [
    {
     "data": {
      "text/plain": [
       "array([ 0.6063465])"
      ]
     },
     "execution_count": 40,
     "metadata": {},
     "output_type": "execute_result"
    }
   ],
   "source": [
    "R = sci.truncnorm.rvs(0, 1, size=1)\n",
    "\n",
    "R"
   ]
  },
  {
   "cell_type": "code",
   "execution_count": 41,
   "metadata": {
    "collapsed": false
   },
   "outputs": [
    {
     "name": "stdout",
     "output_type": "stream",
     "text": [
      "[ 0.88962656]\n",
      "[ 1964.25312734]\n"
     ]
    }
   ],
   "source": [
    "student_ability=sci.truncnorm.rvs(0, 1, size=1)\n",
    "print student_ability\n",
    "student_score=(student_ability*2000)+np.random.randint(-200,200)\n",
    "print student_score"
   ]
  },
  {
   "cell_type": "code",
   "execution_count": 165,
   "metadata": {
    "collapsed": false
   },
   "outputs": [
    {
     "name": "stdout",
     "output_type": "stream",
     "text": [
      "3\n"
     ]
    }
   ],
   "source": [
    "prob_switch_per_friend = .1\n",
    "switch_count = 0 \n",
    "for school_id in school_list:\n",
    "    for cohort_id in range(num_cohorts):\n",
    "        prob_stat_switch = 0\n",
    "        for student_id in student_graphs[school_id][cohort_id]:\n",
    "            at_friend_count = 0\n",
    "            if student_graphs[school_id][cohort_id].node[student_id].app_strategy==0: \n",
    "                for friend in student_graphs[school_id][cohort_id].neighbors(student_id):\n",
    "                    if student_graphs[school_id][cohort_id].node[friend].app_strategy==1:\n",
    "                        at_friend_count +=1\n",
    "                        prob_stat_switch = at_friend_count*prob_switch_per_friend\n",
    "                student_graphs[school_id][cohort_id].node[student_id].app_strategy=np.random.binomial(1, prob_stat_switch , 1)\n",
    "                strat = student_graphs[school_id][cohort_id].node[student_id].app_strategy\n",
    "                if strat==1:\n",
    "                    switch_count+=1\n",
    "                    \n",
    "print switch_count\n",
    "\n",
    "            "
   ]
  },
  {
   "cell_type": "code",
   "execution_count": 157,
   "metadata": {
    "collapsed": false
   },
   "outputs": [
    {
     "data": {
      "text/plain": [
       "array([1, 1, 0, 0, 0, 1, 1, 0, 0, 0, 0, 1, 0, 1, 0, 0, 1, 1, 0, 1, 0, 0, 1,\n",
       "       0, 1, 0, 0, 1, 0, 0])"
      ]
     },
     "execution_count": 157,
     "metadata": {},
     "output_type": "execute_result"
    }
   ],
   "source": [
    "x = np.random.binomial(1, .50, 30)\n",
    "x"
   ]
  },
  {
   "cell_type": "code",
   "execution_count": null,
   "metadata": {
    "collapsed": true
   },
   "outputs": [],
   "source": [
    "t = 0\n",
    "\n",
    "def get_old:\n",
    "    age = 0\n",
    "    "
   ]
  },
  {
   "cell_type": "code",
   "execution_count": 167,
   "metadata": {
    "collapsed": true
   },
   "outputs": [],
   "source": [
    "#friend_info[student_id] = at_friend_count\n",
    "            \n",
    "            #print at_friend_count\n",
    "                #print prob_strat_switch\n",
    "                #print np.random.binomial(1, prob_strat_switch, 1)\n",
    "            #multiply at_friend_count by .1 to add to percentage chance the person turns AT.\n",
    "                    \n",
    "                            \n",
    "                #print (school_id+str(cohort_id)+str(student_id), student_graphs[school_id][cohort_id].node[student_id].app_strategy)\n",
    "                #if student_graphs[school_id][cohort_id].node[friend].student_id==friend:\n",
    "                #print student_graphs[school_id][cohort_id].node[friend].student_ability\n",
    "                #print student_graphs[school_id][cohort_id].node[friend].app_strategy"
   ]
  },
  {
   "cell_type": "code",
   "execution_count": 182,
   "metadata": {
    "collapsed": true
   },
   "outputs": [],
   "source": [
    "class College(object): \n",
    "    \"\"\"\n",
    "    College class, which accepts, rejects students and then contains matriculaters \n",
    "    \"\"\"\n",
    "    def _init_(self, model, rank=0, num_seats=0, admit_standard=0): \n",
    "    \n",
    "        #Set model link and ID\n",
    "        self.model = model\n",
    "        \n",
    "        #Set HS parameter\n",
    "        self.rank = rank\n",
    "        self.num_seats = num_seats\n",
    "        self.sticker_price = sticker_price\n",
    "        self.net_price = net_price\n",
    "        self.admit_standard = admit_standard"
   ]
  },
  {
   "cell_type": "code",
   "execution_count": null,
   "metadata": {
    "collapsed": true
   },
   "outputs": [],
   "source": []
  },
  {
   "cell_type": "code",
   "execution_count": 181,
   "metadata": {
    "collapsed": false
   },
   "outputs": [],
   "source": [
    "def create_college_space():\n",
    "    colleges = []\n",
    "    college_list = string.ascii_lowercase\n",
    "    rank = 0\n",
    "    for college in college_list:\n",
    "        rank +=1\n",
    "        colleges.append(College(model='self', rank=rank,\n",
    "                                num_seats=np.random.randint(50,200)))\n",
    "\n"
   ]
  },
  {
   "cell_type": "code",
   "execution_count": 186,
   "metadata": {
    "collapsed": false
   },
   "outputs": [
    {
     "ename": "TypeError",
     "evalue": "object() takes no parameters",
     "output_type": "error",
     "traceback": [
      "\u001b[0;31m---------------------------------------------------------------------------\u001b[0m",
      "\u001b[0;31mTypeError\u001b[0m                                 Traceback (most recent call last)",
      "\u001b[0;32m<ipython-input-186-d8701a0a1198>\u001b[0m in \u001b[0;36m<module>\u001b[0;34m()\u001b[0m\n\u001b[0;32m----> 1\u001b[0;31m \u001b[0mcreate_college_space\u001b[0m\u001b[0;34m(\u001b[0m\u001b[0;34m)\u001b[0m\u001b[0;34m\u001b[0m\u001b[0m\n\u001b[0m",
      "\u001b[0;32m<ipython-input-181-7b56c4914e1c>\u001b[0m in \u001b[0;36mcreate_college_space\u001b[0;34m()\u001b[0m\n\u001b[1;32m      6\u001b[0m         \u001b[0mrank\u001b[0m \u001b[0;34m+=\u001b[0m\u001b[0;36m1\u001b[0m\u001b[0;34m\u001b[0m\u001b[0m\n\u001b[1;32m      7\u001b[0m         colleges.append(College(model='self', rank=rank,\n\u001b[0;32m----> 8\u001b[0;31m                                 num_seats=np.random.randint(50,200)))\n\u001b[0m\u001b[1;32m      9\u001b[0m \u001b[0;34m\u001b[0m\u001b[0m\n",
      "\u001b[0;31mTypeError\u001b[0m: object() takes no parameters"
     ]
    }
   ],
   "source": [
    "create_college_space()"
   ]
  },
  {
   "cell_type": "code",
   "execution_count": null,
   "metadata": {
    "collapsed": true
   },
   "outputs": [],
   "source": []
  }
 ],
 "metadata": {
  "kernelspec": {
   "display_name": "Python 2",
   "name": "python2"
  },
  "language_info": {
   "codemirror_mode": {
    "name": "ipython",
    "version": 2
   },
   "file_extension": ".py",
   "mimetype": "text/x-python",
   "name": "python",
   "nbconvert_exporter": "python",
   "pygments_lexer": "ipython2",
   "version": "2.7.8"
  }
 },
 "nbformat": 4,
 "nbformat_minor": 0
}
