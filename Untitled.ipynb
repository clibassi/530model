{
 "cells": [
  {
   "cell_type": "code",
   "execution_count": 43,
   "metadata": {
    "collapsed": false
   },
   "outputs": [],
   "source": [
    "# Imports\n",
    "import networkx as nx\n",
    "import numpy\n",
    "import string"
   ]
  },
  {
   "cell_type": "code",
   "execution_count": 28,
   "metadata": {
    "collapsed": true
   },
   "outputs": [],
   "source": [
    "class Student(object):\n",
    "    \n",
    "    def __init__(self, school_id, cohort_id, student_id):\n",
    "        self.school_id = school_id\n",
    "        self.cohort_id = cohort_id\n",
    "        self.student_id = student_id"
   ]
  },
  {
   "cell_type": "code",
   "execution_count": 46,
   "metadata": {
    "collapsed": true
   },
   "outputs": [],
   "source": [
    "# Dictionary to store all graphs\n",
    "student_graphs = {}\n"
   ]
  },
  {
   "cell_type": "code",
   "execution_count": 48,
   "metadata": {
    "collapsed": false
   },
   "outputs": [],
   "source": [
    "# school list\n",
    "school_list = string.ascii_uppercase\n",
    "\n",
    "# Iterate\n",
    "for school_id in school_list:\n",
    "    # Set the school ID\n",
    "    num_cohorts = 3\n",
    "    prob_out = 0.1\n",
    "\n",
    "    # Setup empty school dictionary key\n",
    "    student_graphs[school_id] = {}\n",
    "\n",
    "    # Iterate through each cohort\n",
    "    for cohort_id in range(num_cohorts):\n",
    "        # Create graph randomly\n",
    "        num_students = numpy.random.randint(50, 100)\n",
    "        num_friends = 2 + numpy.random.binomial(4, 0.5)\n",
    "        g = nx.newman_watts_strogatz_graph(num_students, num_friends, prob_out)\n",
    "\n",
    "        # Create students\n",
    "        for node_id in g.nodes():\n",
    "            # Set a student class as an attribute\n",
    "            g.node[node_id] = Student(school_id, cohort_id, node_id)\n",
    "\n",
    "        # Set school-cohort graph into dictionary\n",
    "        student_graphs[school_id][cohort_id] = g \n"
   ]
  },
  {
   "cell_type": "code",
   "execution_count": 49,
   "metadata": {
    "collapsed": false
   },
   "outputs": [
    {
     "data": {
      "text/plain": [
       "{'A': {0: <networkx.classes.graph.Graph at 0x7fa2245f7050>,\n",
       "  1: <networkx.classes.graph.Graph at 0x7fa2245f7390>,\n",
       "  2: <networkx.classes.graph.Graph at 0x7fa224501990>},\n",
       " 'B': {0: <networkx.classes.graph.Graph at 0x7fa224497090>,\n",
       "  1: <networkx.classes.graph.Graph at 0x7fa22444f310>,\n",
       "  2: <networkx.classes.graph.Graph at 0x7fa22444f350>},\n",
       " 'C': {0: <networkx.classes.graph.Graph at 0x7fa224460090>,\n",
       "  1: <networkx.classes.graph.Graph at 0x7fa22447a610>,\n",
       "  2: <networkx.classes.graph.Graph at 0x7fa224417d10>},\n",
       " 'D': {0: <networkx.classes.graph.Graph at 0x7fa224425c50>,\n",
       "  1: <networkx.classes.graph.Graph at 0x7fa22443bd90>,\n",
       "  2: <networkx.classes.graph.Graph at 0x7fa2243d2590>},\n",
       " 'E': {0: <networkx.classes.graph.Graph at 0x7fa2243e7350>,\n",
       "  1: <networkx.classes.graph.Graph at 0x7fa22440ca90>,\n",
       "  2: <networkx.classes.graph.Graph at 0x7fa2243998d0>},\n",
       " 'F': {0: <networkx.classes.graph.Graph at 0x7fa2243b7110>,\n",
       "  1: <networkx.classes.graph.Graph at 0x7fa2243cc150>,\n",
       "  2: <networkx.classes.graph.Graph at 0x7fa224362350>},\n",
       " 'G': {0: <networkx.classes.graph.Graph at 0x7fa22437e9d0>,\n",
       "  1: <networkx.classes.graph.Graph at 0x7fa22438b790>,\n",
       "  2: <networkx.classes.graph.Graph at 0x7fa22431b810>},\n",
       " 'H': {0: <networkx.classes.graph.Graph at 0x7fa224330990>,\n",
       "  1: <networkx.classes.graph.Graph at 0x7fa2242ce190>,\n",
       "  2: <networkx.classes.graph.Graph at 0x7fa2242eb910>},\n",
       " 'I': {0: <networkx.classes.graph.Graph at 0x7fa2242fdc50>,\n",
       "  1: <networkx.classes.graph.Graph at 0x7fa22430a990>,\n",
       "  2: <networkx.classes.graph.Graph at 0x7fa2242a4a10>},\n",
       " 'J': {0: <networkx.classes.graph.Graph at 0x7fa2242b8f90>,\n",
       "  1: <networkx.classes.graph.Graph at 0x7fa2242c6e90>,\n",
       "  2: <networkx.classes.graph.Graph at 0x7fa224261390>},\n",
       " 'K': {0: <networkx.classes.graph.Graph at 0x7fa224271090>,\n",
       "  1: <networkx.classes.graph.Graph at 0x7fa224284510>,\n",
       "  2: <networkx.classes.graph.Graph at 0x7fa224216850>},\n",
       " 'L': {0: <networkx.classes.graph.Graph at 0x7fa224226910>,\n",
       "  1: <networkx.classes.graph.Graph at 0x7fa224245250>,\n",
       "  2: <networkx.classes.graph.Graph at 0x7fa2241de6d0>},\n",
       " 'M': {0: <networkx.classes.graph.Graph at 0x7fa2241f1b50>,\n",
       "  1: <networkx.classes.graph.Graph at 0x7fa224194190>,\n",
       "  2: <networkx.classes.graph.Graph at 0x7fa2241a2110>},\n",
       " 'N': {0: <networkx.classes.graph.Graph at 0x7fa2241b6690>,\n",
       "  1: <networkx.classes.graph.Graph at 0x7fa2241c4510>,\n",
       "  2: <networkx.classes.graph.Graph at 0x7fa22415b690>},\n",
       " 'O': {0: <networkx.classes.graph.Graph at 0x7fa22416b810>,\n",
       "  1: <networkx.classes.graph.Graph at 0x7fa224182090>,\n",
       "  2: <networkx.classes.graph.Graph at 0x7fa22411b410>},\n",
       " 'P': {0: <networkx.classes.graph.Graph at 0x7fa224133750>,\n",
       "  1: <networkx.classes.graph.Graph at 0x7fa224148e50>,\n",
       "  2: <networkx.classes.graph.Graph at 0x7fa2240d8fd0>},\n",
       " 'Q': {0: <networkx.classes.graph.Graph at 0x7fa2240ebe90>,\n",
       "  1: <networkx.classes.graph.Graph at 0x7fa2241020d0>,\n",
       "  2: <networkx.classes.graph.Graph at 0x7fa224095550>},\n",
       " 'R': {0: <networkx.classes.graph.Graph at 0x7fa2240a9510>,\n",
       "  1: <networkx.classes.graph.Graph at 0x7fa2240b8550>,\n",
       "  2: <networkx.classes.graph.Graph at 0x7fa2240ca350>},\n",
       " 'S': {0: <networkx.classes.graph.Graph at 0x7fa224061650>,\n",
       "  1: <networkx.classes.graph.Graph at 0x7fa224078950>,\n",
       "  2: <networkx.classes.graph.Graph at 0x7fa22408a790>},\n",
       " 'T': {0: <networkx.classes.graph.Graph at 0x7fa224024810>,\n",
       "  1: <networkx.classes.graph.Graph at 0x7fa22403d890>,\n",
       "  2: <networkx.classes.graph.Graph at 0x7fa223fd7910>},\n",
       " 'U': {0: <networkx.classes.graph.Graph at 0x7fa223ff0d90>,\n",
       "  1: <networkx.classes.graph.Graph at 0x7fa2240041d0>,\n",
       "  2: <networkx.classes.graph.Graph at 0x7fa223f9f790>},\n",
       " 'V': {0: <networkx.classes.graph.Graph at 0x7fa223fb3d90>,\n",
       "  1: <networkx.classes.graph.Graph at 0x7fa223f4f390>,\n",
       "  2: <networkx.classes.graph.Graph at 0x7fa223f6cad0>},\n",
       " 'W': {0: <networkx.classes.graph.Graph at 0x7fa223f8b3d0>,\n",
       "  1: <networkx.classes.graph.Graph at 0x7fa223f24790>,\n",
       "  2: <networkx.classes.graph.Graph at 0x7fa223f3cb90>},\n",
       " 'X': {0: <networkx.classes.graph.Graph at 0x7fa223ecddd0>,\n",
       "  1: <networkx.classes.graph.Graph at 0x7fa223edfb90>,\n",
       "  2: <networkx.classes.graph.Graph at 0x7fa223ef5d50>},\n",
       " 'Y': {0: <networkx.classes.graph.Graph at 0x7fa223f08c90>,\n",
       "  1: <networkx.classes.graph.Graph at 0x7fa223e97cd0>,\n",
       "  2: <networkx.classes.graph.Graph at 0x7fa223eb54d0>},\n",
       " 'Z': {0: <networkx.classes.graph.Graph at 0x7fa223ec9510>,\n",
       "  1: <networkx.classes.graph.Graph at 0x7fa223e56250>,\n",
       "  2: <networkx.classes.graph.Graph at 0x7fa223e56f10>}}"
      ]
     },
     "execution_count": 49,
     "metadata": {},
     "output_type": "execute_result"
    }
   ],
   "source": [
    "student_graphs"
   ]
  },
  {
   "cell_type": "code",
   "execution_count": 50,
   "metadata": {
    "collapsed": false
   },
   "outputs": [
    {
     "name": "stdout",
     "output_type": "stream",
     "text": [
      "(<__main__.Student object at 0x7fa224501f90>, 0)\n",
      "(<__main__.Student object at 0x7fa224501b90>, 1)\n",
      "(<__main__.Student object at 0x7fa224501fd0>, 2)\n",
      "(<__main__.Student object at 0x7fa224501410>, 3)\n",
      "(<__main__.Student object at 0x7fa224501390>, 4)\n",
      "(<__main__.Student object at 0x7fa2245014d0>, 5)\n",
      "(<__main__.Student object at 0x7fa224501510>, 6)\n",
      "(<__main__.Student object at 0x7fa224501590>, 7)\n",
      "(<__main__.Student object at 0x7fa2245015d0>, 8)\n",
      "(<__main__.Student object at 0x7fa224501610>, 9)\n",
      "(<__main__.Student object at 0x7fa224501690>, 10)\n",
      "(<__main__.Student object at 0x7fa2245016d0>, 11)\n",
      "(<__main__.Student object at 0x7fa224501710>, 12)\n",
      "(<__main__.Student object at 0x7fa224501750>, 13)\n",
      "(<__main__.Student object at 0x7fa224501790>, 14)\n",
      "(<__main__.Student object at 0x7fa2245017d0>, 15)\n",
      "(<__main__.Student object at 0x7fa224501810>, 16)\n",
      "(<__main__.Student object at 0x7fa224501850>, 17)\n",
      "(<__main__.Student object at 0x7fa2245018d0>, 18)\n",
      "(<__main__.Student object at 0x7fa224501910>, 19)\n",
      "(<__main__.Student object at 0x7fa224501950>, 20)\n",
      "(<__main__.Student object at 0x7fa2245019d0>, 21)\n",
      "(<__main__.Student object at 0x7fa224501a10>, 22)\n",
      "(<__main__.Student object at 0x7fa224501a90>, 23)\n",
      "(<__main__.Student object at 0x7fa224501b10>, 24)\n",
      "(<__main__.Student object at 0x7fa224501b50>, 25)\n",
      "(<__main__.Student object at 0x7fa224501bd0>, 26)\n",
      "(<__main__.Student object at 0x7fa224501c10>, 27)\n",
      "(<__main__.Student object at 0x7fa224501c50>, 28)\n",
      "(<__main__.Student object at 0x7fa224501c90>, 29)\n",
      "(<__main__.Student object at 0x7fa224501250>, 30)\n",
      "(<__main__.Student object at 0x7fa2245012d0>, 31)\n",
      "(<__main__.Student object at 0x7fa224501350>, 32)\n",
      "(<__main__.Student object at 0x7fa224501550>, 33)\n",
      "(<__main__.Student object at 0x7fa22448e050>, 34)\n",
      "(<__main__.Student object at 0x7fa22448e090>, 35)\n",
      "(<__main__.Student object at 0x7fa22448e0d0>, 36)\n",
      "(<__main__.Student object at 0x7fa22448e110>, 37)\n",
      "(<__main__.Student object at 0x7fa22448e150>, 38)\n",
      "(<__main__.Student object at 0x7fa22448e190>, 39)\n",
      "(<__main__.Student object at 0x7fa22448e1d0>, 40)\n",
      "(<__main__.Student object at 0x7fa22448e210>, 41)\n",
      "(<__main__.Student object at 0x7fa22448e250>, 42)\n",
      "(<__main__.Student object at 0x7fa22448e290>, 43)\n",
      "(<__main__.Student object at 0x7fa22448e2d0>, 44)\n",
      "(<__main__.Student object at 0x7fa22448e310>, 45)\n",
      "(<__main__.Student object at 0x7fa22448e350>, 46)\n",
      "(<__main__.Student object at 0x7fa22448e390>, 47)\n",
      "(<__main__.Student object at 0x7fa22448e3d0>, 48)\n",
      "(<__main__.Student object at 0x7fa22448e410>, 49)\n",
      "(<__main__.Student object at 0x7fa22448e450>, 50)\n",
      "(<__main__.Student object at 0x7fa22448e490>, 51)\n",
      "(<__main__.Student object at 0x7fa22448e4d0>, 52)\n",
      "(<__main__.Student object at 0x7fa22448e510>, 53)\n",
      "(<__main__.Student object at 0x7fa22448e550>, 54)\n",
      "(<__main__.Student object at 0x7fa22448e590>, 55)\n",
      "(<__main__.Student object at 0x7fa22448e5d0>, 56)\n",
      "(<__main__.Student object at 0x7fa22448e610>, 57)\n",
      "(<__main__.Student object at 0x7fa22448e650>, 58)\n",
      "(<__main__.Student object at 0x7fa22448e690>, 59)\n",
      "(<__main__.Student object at 0x7fa22448e6d0>, 60)\n",
      "(<__main__.Student object at 0x7fa22448e710>, 61)\n",
      "(<__main__.Student object at 0x7fa22448e750>, 62)\n",
      "(<__main__.Student object at 0x7fa22448e790>, 63)\n",
      "(<__main__.Student object at 0x7fa22448e7d0>, 64)\n",
      "(<__main__.Student object at 0x7fa22448e810>, 65)\n",
      "(<__main__.Student object at 0x7fa22448e850>, 66)\n",
      "(<__main__.Student object at 0x7fa22448e890>, 67)\n",
      "(<__main__.Student object at 0x7fa22448e8d0>, 68)\n",
      "(<__main__.Student object at 0x7fa22448e910>, 69)\n",
      "(<__main__.Student object at 0x7fa22448e950>, 70)\n",
      "(<__main__.Student object at 0x7fa22448e990>, 71)\n",
      "(<__main__.Student object at 0x7fa22448e9d0>, 72)\n",
      "(<__main__.Student object at 0x7fa22448ea10>, 73)\n",
      "(<__main__.Student object at 0x7fa22448ea50>, 74)\n",
      "(<__main__.Student object at 0x7fa22448ea90>, 75)\n",
      "(<__main__.Student object at 0x7fa22448ead0>, 76)\n",
      "(<__main__.Student object at 0x7fa22448eb10>, 77)\n",
      "(<__main__.Student object at 0x7fa22448eb50>, 78)\n",
      "(<__main__.Student object at 0x7fa22448eb90>, 79)\n",
      "(<__main__.Student object at 0x7fa22448ebd0>, 80)\n",
      "(<__main__.Student object at 0x7fa22448ec10>, 81)\n",
      "(<__main__.Student object at 0x7fa22448ec50>, 82)\n",
      "(<__main__.Student object at 0x7fa22448ec90>, 83)\n",
      "(<__main__.Student object at 0x7fa22448ecd0>, 84)\n",
      "(<__main__.Student object at 0x7fa22448ed10>, 85)\n",
      "(<__main__.Student object at 0x7fa22448ed50>, 86)\n",
      "(<__main__.Student object at 0x7fa22448ed90>, 87)\n",
      "(<__main__.Student object at 0x7fa22448edd0>, 88)\n",
      "(<__main__.Student object at 0x7fa22448ee10>, 89)\n",
      "(<__main__.Student object at 0x7fa22448ee50>, 90)\n",
      "(<__main__.Student object at 0x7fa22448ee90>, 91)\n",
      "(<__main__.Student object at 0x7fa22448eed0>, 92)\n",
      "(<__main__.Student object at 0x7fa22448ef10>, 93)\n",
      "(<__main__.Student object at 0x7fa22448ef50>, 94)\n",
      "(<__main__.Student object at 0x7fa22448ef90>, 95)\n",
      "(<__main__.Student object at 0x7fa22448efd0>, 96)\n",
      "(<__main__.Student object at 0x7fa224497050>, 97)\n"
     ]
    }
   ],
   "source": [
    "for student_id in student_graphs[\"A\"][1].nodes_iter():\n",
    "    # Access student in dictionary\n",
    "    student = student_graphs[\"A\"][1].node[student_id]\n",
    "    # Print info\n",
    "    print((student, student.student_id))"
   ]
  },
  {
   "cell_type": "code",
   "execution_count": null,
   "metadata": {
    "collapsed": true
   },
   "outputs": [],
   "source": []
  }
 ],
 "metadata": {
  "kernelspec": {
   "display_name": "Python 2",
   "language": "python",
   "name": "python2"
  },
  "language_info": {
   "codemirror_mode": {
    "name": "ipython",
    "version": 2
   },
   "file_extension": ".py",
   "mimetype": "text/x-python",
   "name": "python",
   "nbconvert_exporter": "python",
   "pygments_lexer": "ipython2",
   "version": "2.7.8"
  }
 },
 "nbformat": 4,
 "nbformat_minor": 0
}
